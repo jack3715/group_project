{
 "cells": [
  {
   "cell_type": "code",
   "execution_count": 1,
   "id": "ba4c866f-dfaf-4fff-bafe-ce90eda6635a",
   "metadata": {},
   "outputs": [],
   "source": [
    "#Import Libraries\n",
    "import pandas as pd\n",
    "%matplotlib inline\n",
    "from MCForecastTools import MCSimulation\n",
    "import warnings\n",
    "warnings.filterwarnings('ignore')\n",
    "from pathlib import Path\n",
    "import plotly as px"
   ]
  },
  {
   "cell_type": "markdown",
   "id": "4dedddfe-aa52-460d-8cb6-12232b1a8f11",
   "metadata": {},
   "source": [
    "Bit Coin (BTC)\n",
    "\n",
    "Ethereum (ETH)\n",
    "\n",
    "Dogecoin (DOGE)\n",
    "\n",
    "Litecoin (LTC)"
   ]
  },
  {
   "cell_type": "code",
   "execution_count": 2,
   "id": "3ed90776-2b81-463b-b1e5-5a37c39fc4f9",
   "metadata": {},
   "outputs": [],
   "source": [
    "# Reading in the Pre-Covid time frame csv files\n",
    "btc_pre = pd.read_csv(Path('./Resources/BTC_PRECOVID.csv')).set_index('Date').drop(labels = ['High','Low','Adj Close','Volume'], axis = 1)\n",
    "doge_pre = pd.read_csv(Path('./Resources/DOGE_PRECOVID.csv')).set_index('Date').drop(labels = ['High','Low','Adj Close','Volume'], axis = 1)\n",
    "eth_pre = pd.read_csv(Path('./Resources/ETH_PRECOVID.csv')).set_index('Date').drop(labels = ['High','Low','Adj Close','Volume'], axis = 1)\n",
    "ltc_pre = pd.read_csv(Path('./Resources/LTC_PRECOVID.csv')).set_index('Date').drop(labels = ['High','Low','Adj Close','Volume'], axis = 1)"
   ]
  },
  {
   "cell_type": "code",
   "execution_count": 3,
   "id": "b71ba88f-f2d7-4a3e-a9e8-474982ccdb4c",
   "metadata": {
    "tags": []
   },
   "outputs": [],
   "source": [
    "# Reading in the Covid time frame csv files\n",
    "btc_covid = pd.read_csv(Path('./Resources/BTC_COVID.csv')).set_index('Date').drop(labels = ['High','Low','Adj Close','Volume'], axis = 1)\n",
    "doge_covid = pd.read_csv(Path('./Resources/DOGE_COVID.csv')).set_index('Date').drop(labels = ['High','Low','Adj Close','Volume'], axis = 1)\n",
    "eth_covid = pd.read_csv(Path('./Resources/ETH_COVID.csv')).set_index('Date').drop(labels = ['High','Low','Adj Close','Volume'], axis = 1)\n",
    "ltc_covid = pd.read_csv(Path('./Resources/LTC_COVID.csv')).set_index('Date').drop(labels = ['High','Low','Adj Close','Volume'], axis = 1)"
   ]
  },
  {
   "cell_type": "code",
   "execution_count": 4,
   "id": "e62c6567-c4b5-4839-a5cf-d30a624d30ec",
   "metadata": {
    "tags": []
   },
   "outputs": [],
   "source": [
    "# Reading in the Post-Covid time frame csv files\n",
    "btc_post = pd.read_csv(Path('./Resources/BTC_POST.csv')).set_index('Date').drop(labels = ['High','Low','Adj Close','Volume'], axis = 1)\n",
    "doge_post = pd.read_csv(Path('./Resources/DOGE_POST.csv')).set_index('Date').drop(labels = ['High','Low','Adj Close','Volume'], axis = 1)\n",
    "eth_post = pd.read_csv(Path('./Resources/ETH_POST.csv')).set_index('Date').drop(labels = ['High','Low','Adj Close','Volume'], axis = 1)\n",
    "ltc_post = pd.read_csv(Path('./Resources/LTC_POST.csv')).set_index('Date').drop(labels = ['High','Low','Adj Close','Volume'], axis = 1)"
   ]
  },
  {
   "cell_type": "code",
   "execution_count": 5,
   "id": "b392a3f5-7d0d-4d04-8651-84c2aa10d412",
   "metadata": {},
   "outputs": [
    {
     "name": "stdout",
     "output_type": "stream",
     "text": [
      "BTC   Open     0\n",
      "      Close    0\n",
      "DOGE  Open     0\n",
      "      Close    0\n",
      "ETH   Open     0\n",
      "      Close    0\n",
      "LTC   Open     0\n",
      "      Close    0\n",
      "dtype: int64\n"
     ]
    },
    {
     "data": {
      "text/html": [
       "<div>\n",
       "<style scoped>\n",
       "    .dataframe tbody tr th:only-of-type {\n",
       "        vertical-align: middle;\n",
       "    }\n",
       "\n",
       "    .dataframe tbody tr th {\n",
       "        vertical-align: top;\n",
       "    }\n",
       "\n",
       "    .dataframe thead tr th {\n",
       "        text-align: left;\n",
       "    }\n",
       "\n",
       "    .dataframe thead tr:last-of-type th {\n",
       "        text-align: right;\n",
       "    }\n",
       "</style>\n",
       "<table border=\"1\" class=\"dataframe\">\n",
       "  <thead>\n",
       "    <tr>\n",
       "      <th></th>\n",
       "      <th colspan=\"2\" halign=\"left\">BTC</th>\n",
       "      <th colspan=\"2\" halign=\"left\">DOGE</th>\n",
       "      <th colspan=\"2\" halign=\"left\">ETH</th>\n",
       "      <th colspan=\"2\" halign=\"left\">LTC</th>\n",
       "    </tr>\n",
       "    <tr>\n",
       "      <th></th>\n",
       "      <th>Open</th>\n",
       "      <th>Close</th>\n",
       "      <th>Open</th>\n",
       "      <th>Close</th>\n",
       "      <th>Open</th>\n",
       "      <th>Close</th>\n",
       "      <th>Open</th>\n",
       "      <th>Close</th>\n",
       "    </tr>\n",
       "    <tr>\n",
       "      <th>Date</th>\n",
       "      <th></th>\n",
       "      <th></th>\n",
       "      <th></th>\n",
       "      <th></th>\n",
       "      <th></th>\n",
       "      <th></th>\n",
       "      <th></th>\n",
       "      <th></th>\n",
       "    </tr>\n",
       "  </thead>\n",
       "  <tbody>\n",
       "    <tr>\n",
       "      <th>2017-11-09</th>\n",
       "      <td>7446.830078</td>\n",
       "      <td>7143.580078</td>\n",
       "      <td>0.001207</td>\n",
       "      <td>0.001415</td>\n",
       "      <td>308.644989</td>\n",
       "      <td>320.884003</td>\n",
       "      <td>62.489601</td>\n",
       "      <td>64.269699</td>\n",
       "    </tr>\n",
       "    <tr>\n",
       "      <th>2017-11-10</th>\n",
       "      <td>7173.729980</td>\n",
       "      <td>6618.140137</td>\n",
       "      <td>0.001421</td>\n",
       "      <td>0.001163</td>\n",
       "      <td>320.670990</td>\n",
       "      <td>299.252991</td>\n",
       "      <td>64.436203</td>\n",
       "      <td>59.260101</td>\n",
       "    </tr>\n",
       "    <tr>\n",
       "      <th>2017-11-11</th>\n",
       "      <td>6618.609863</td>\n",
       "      <td>6357.600098</td>\n",
       "      <td>0.001146</td>\n",
       "      <td>0.001201</td>\n",
       "      <td>298.585999</td>\n",
       "      <td>314.681000</td>\n",
       "      <td>59.348900</td>\n",
       "      <td>62.303299</td>\n",
       "    </tr>\n",
       "    <tr>\n",
       "      <th>2017-11-12</th>\n",
       "      <td>6295.450195</td>\n",
       "      <td>5950.069824</td>\n",
       "      <td>0.001189</td>\n",
       "      <td>0.001038</td>\n",
       "      <td>314.690002</td>\n",
       "      <td>307.907990</td>\n",
       "      <td>62.309200</td>\n",
       "      <td>59.005402</td>\n",
       "    </tr>\n",
       "    <tr>\n",
       "      <th>2017-11-13</th>\n",
       "      <td>5938.250000</td>\n",
       "      <td>6559.490234</td>\n",
       "      <td>0.001046</td>\n",
       "      <td>0.001211</td>\n",
       "      <td>307.024994</td>\n",
       "      <td>316.716003</td>\n",
       "      <td>59.175800</td>\n",
       "      <td>61.396500</td>\n",
       "    </tr>\n",
       "  </tbody>\n",
       "</table>\n",
       "</div>"
      ],
      "text/plain": [
       "                    BTC                   DOGE                   ETH  \\\n",
       "                   Open        Close      Open     Close        Open   \n",
       "Date                                                                   \n",
       "2017-11-09  7446.830078  7143.580078  0.001207  0.001415  308.644989   \n",
       "2017-11-10  7173.729980  6618.140137  0.001421  0.001163  320.670990   \n",
       "2017-11-11  6618.609863  6357.600098  0.001146  0.001201  298.585999   \n",
       "2017-11-12  6295.450195  5950.069824  0.001189  0.001038  314.690002   \n",
       "2017-11-13  5938.250000  6559.490234  0.001046  0.001211  307.024994   \n",
       "\n",
       "                              LTC             \n",
       "                 Close       Open      Close  \n",
       "Date                                          \n",
       "2017-11-09  320.884003  62.489601  64.269699  \n",
       "2017-11-10  299.252991  64.436203  59.260101  \n",
       "2017-11-11  314.681000  59.348900  62.303299  \n",
       "2017-11-12  307.907990  62.309200  59.005402  \n",
       "2017-11-13  316.716003  59.175800  61.396500  "
      ]
     },
     "execution_count": 5,
     "metadata": {},
     "output_type": "execute_result"
    }
   ],
   "source": [
    "# Concatenating the Pre-Covid time frame data frames\n",
    "crypto_pre = pd.concat([btc_pre, doge_pre, eth_pre, ltc_pre], axis=1,join='inner', keys = [\"BTC\", \"DOGE\", \"ETH\", \"LTC\"])\n",
    "print(crypto_pre.isnull().sum())\n",
    "crypto_pre.head()"
   ]
  },
  {
   "cell_type": "code",
   "execution_count": 6,
   "id": "779a06f8-d2b4-4214-9aa1-ad9ef88bf001",
   "metadata": {
    "tags": []
   },
   "outputs": [
    {
     "data": {
      "text/html": [
       "<div>\n",
       "<style scoped>\n",
       "    .dataframe tbody tr th:only-of-type {\n",
       "        vertical-align: middle;\n",
       "    }\n",
       "\n",
       "    .dataframe tbody tr th {\n",
       "        vertical-align: top;\n",
       "    }\n",
       "\n",
       "    .dataframe thead tr th {\n",
       "        text-align: left;\n",
       "    }\n",
       "\n",
       "    .dataframe thead tr:last-of-type th {\n",
       "        text-align: right;\n",
       "    }\n",
       "</style>\n",
       "<table border=\"1\" class=\"dataframe\">\n",
       "  <thead>\n",
       "    <tr>\n",
       "      <th></th>\n",
       "      <th colspan=\"2\" halign=\"left\">BTC</th>\n",
       "      <th colspan=\"2\" halign=\"left\">DOGE</th>\n",
       "      <th colspan=\"2\" halign=\"left\">ETH</th>\n",
       "      <th colspan=\"2\" halign=\"left\">LTC</th>\n",
       "    </tr>\n",
       "    <tr>\n",
       "      <th></th>\n",
       "      <th>Open</th>\n",
       "      <th>Close</th>\n",
       "      <th>Open</th>\n",
       "      <th>Close</th>\n",
       "      <th>Open</th>\n",
       "      <th>Close</th>\n",
       "      <th>Open</th>\n",
       "      <th>Close</th>\n",
       "    </tr>\n",
       "    <tr>\n",
       "      <th>Date</th>\n",
       "      <th></th>\n",
       "      <th></th>\n",
       "      <th></th>\n",
       "      <th></th>\n",
       "      <th></th>\n",
       "      <th></th>\n",
       "      <th></th>\n",
       "      <th></th>\n",
       "    </tr>\n",
       "  </thead>\n",
       "  <tbody>\n",
       "    <tr>\n",
       "      <th>2017-11-10</th>\n",
       "      <td>-0.036673</td>\n",
       "      <td>-0.073554</td>\n",
       "      <td>0.177299</td>\n",
       "      <td>-0.178092</td>\n",
       "      <td>0.038964</td>\n",
       "      <td>-0.067411</td>\n",
       "      <td>0.031151</td>\n",
       "      <td>-0.077946</td>\n",
       "    </tr>\n",
       "    <tr>\n",
       "      <th>2017-11-11</th>\n",
       "      <td>-0.077382</td>\n",
       "      <td>-0.039368</td>\n",
       "      <td>-0.193526</td>\n",
       "      <td>0.032674</td>\n",
       "      <td>-0.068871</td>\n",
       "      <td>0.051555</td>\n",
       "      <td>-0.078951</td>\n",
       "      <td>0.051353</td>\n",
       "    </tr>\n",
       "    <tr>\n",
       "      <th>2017-11-12</th>\n",
       "      <td>-0.048826</td>\n",
       "      <td>-0.064101</td>\n",
       "      <td>0.037522</td>\n",
       "      <td>-0.135720</td>\n",
       "      <td>0.053934</td>\n",
       "      <td>-0.021523</td>\n",
       "      <td>0.049880</td>\n",
       "      <td>-0.052933</td>\n",
       "    </tr>\n",
       "    <tr>\n",
       "      <th>2017-11-13</th>\n",
       "      <td>-0.056739</td>\n",
       "      <td>0.102422</td>\n",
       "      <td>-0.120269</td>\n",
       "      <td>0.166667</td>\n",
       "      <td>-0.024357</td>\n",
       "      <td>0.028606</td>\n",
       "      <td>-0.050288</td>\n",
       "      <td>0.040523</td>\n",
       "    </tr>\n",
       "    <tr>\n",
       "      <th>2017-11-14</th>\n",
       "      <td>0.104952</td>\n",
       "      <td>0.011626</td>\n",
       "      <td>0.148184</td>\n",
       "      <td>-0.022296</td>\n",
       "      <td>0.031717</td>\n",
       "      <td>0.066037</td>\n",
       "      <td>0.041691</td>\n",
       "      <td>0.020899</td>\n",
       "    </tr>\n",
       "  </tbody>\n",
       "</table>\n",
       "</div>"
      ],
      "text/plain": [
       "                 BTC                DOGE                 ETH            \\\n",
       "                Open     Close      Open     Close      Open     Close   \n",
       "Date                                                                     \n",
       "2017-11-10 -0.036673 -0.073554  0.177299 -0.178092  0.038964 -0.067411   \n",
       "2017-11-11 -0.077382 -0.039368 -0.193526  0.032674 -0.068871  0.051555   \n",
       "2017-11-12 -0.048826 -0.064101  0.037522 -0.135720  0.053934 -0.021523   \n",
       "2017-11-13 -0.056739  0.102422 -0.120269  0.166667 -0.024357  0.028606   \n",
       "2017-11-14  0.104952  0.011626  0.148184 -0.022296  0.031717  0.066037   \n",
       "\n",
       "                 LTC            \n",
       "                Open     Close  \n",
       "Date                            \n",
       "2017-11-10  0.031151 -0.077946  \n",
       "2017-11-11 -0.078951  0.051353  \n",
       "2017-11-12  0.049880 -0.052933  \n",
       "2017-11-13 -0.050288  0.040523  \n",
       "2017-11-14  0.041691  0.020899  "
      ]
     },
     "execution_count": 6,
     "metadata": {},
     "output_type": "execute_result"
    }
   ],
   "source": [
    "crypto_pre_change = crypto_pre.pct_change().dropna()\n",
    "crypto_pre_change.head(5)"
   ]
  },
  {
   "cell_type": "code",
   "execution_count": 18,
   "id": "84a1700a-89d7-493c-a8dd-750db59cffd4",
   "metadata": {
    "tags": []
   },
   "outputs": [
    {
     "ename": "KeyError",
     "evalue": "'Close'",
     "output_type": "error",
     "traceback": [
      "\u001b[1;31m---------------------------------------------------------------------------\u001b[0m",
      "\u001b[1;31mKeyError\u001b[0m                                  Traceback (most recent call last)",
      "File \u001b[1;32mC:\\Program Files\\Anaconda\\envs\\alpacaenv\\lib\\site-packages\\pandas\\core\\indexes\\base.py:3653\u001b[0m, in \u001b[0;36mIndex.get_loc\u001b[1;34m(self, key)\u001b[0m\n\u001b[0;32m   3652\u001b[0m \u001b[38;5;28;01mtry\u001b[39;00m:\n\u001b[1;32m-> 3653\u001b[0m     \u001b[38;5;28;01mreturn\u001b[39;00m \u001b[38;5;28;43mself\u001b[39;49m\u001b[38;5;241;43m.\u001b[39;49m\u001b[43m_engine\u001b[49m\u001b[38;5;241;43m.\u001b[39;49m\u001b[43mget_loc\u001b[49m\u001b[43m(\u001b[49m\u001b[43mcasted_key\u001b[49m\u001b[43m)\u001b[49m\n\u001b[0;32m   3654\u001b[0m \u001b[38;5;28;01mexcept\u001b[39;00m \u001b[38;5;167;01mKeyError\u001b[39;00m \u001b[38;5;28;01mas\u001b[39;00m err:\n",
      "File \u001b[1;32mC:\\Program Files\\Anaconda\\envs\\alpacaenv\\lib\\site-packages\\pandas\\_libs\\index.pyx:147\u001b[0m, in \u001b[0;36mpandas._libs.index.IndexEngine.get_loc\u001b[1;34m()\u001b[0m\n",
      "File \u001b[1;32mC:\\Program Files\\Anaconda\\envs\\alpacaenv\\lib\\site-packages\\pandas\\_libs\\index.pyx:176\u001b[0m, in \u001b[0;36mpandas._libs.index.IndexEngine.get_loc\u001b[1;34m()\u001b[0m\n",
      "File \u001b[1;32mpandas\\_libs\\hashtable_class_helper.pxi:7080\u001b[0m, in \u001b[0;36mpandas._libs.hashtable.PyObjectHashTable.get_item\u001b[1;34m()\u001b[0m\n",
      "File \u001b[1;32mpandas\\_libs\\hashtable_class_helper.pxi:7088\u001b[0m, in \u001b[0;36mpandas._libs.hashtable.PyObjectHashTable.get_item\u001b[1;34m()\u001b[0m\n",
      "\u001b[1;31mKeyError\u001b[0m: 'Close'",
      "\nThe above exception was the direct cause of the following exception:\n",
      "\u001b[1;31mKeyError\u001b[0m                                  Traceback (most recent call last)",
      "Cell \u001b[1;32mIn[18], line 1\u001b[0m\n\u001b[1;32m----> 1\u001b[0m pre_ret_plot \u001b[38;5;241m=\u001b[39m \u001b[43mcrypto_pre_change\u001b[49m\u001b[43m[\u001b[49m\u001b[38;5;124;43m'\u001b[39;49m\u001b[38;5;124;43mClose\u001b[39;49m\u001b[38;5;124;43m'\u001b[39;49m\u001b[43m]\u001b[49m\u001b[38;5;241m.\u001b[39mplot()\n",
      "File \u001b[1;32mC:\\Program Files\\Anaconda\\envs\\alpacaenv\\lib\\site-packages\\pandas\\core\\frame.py:3760\u001b[0m, in \u001b[0;36mDataFrame.__getitem__\u001b[1;34m(self, key)\u001b[0m\n\u001b[0;32m   3758\u001b[0m \u001b[38;5;28;01mif\u001b[39;00m is_single_key:\n\u001b[0;32m   3759\u001b[0m     \u001b[38;5;28;01mif\u001b[39;00m \u001b[38;5;28mself\u001b[39m\u001b[38;5;241m.\u001b[39mcolumns\u001b[38;5;241m.\u001b[39mnlevels \u001b[38;5;241m>\u001b[39m \u001b[38;5;241m1\u001b[39m:\n\u001b[1;32m-> 3760\u001b[0m         \u001b[38;5;28;01mreturn\u001b[39;00m \u001b[38;5;28;43mself\u001b[39;49m\u001b[38;5;241;43m.\u001b[39;49m\u001b[43m_getitem_multilevel\u001b[49m\u001b[43m(\u001b[49m\u001b[43mkey\u001b[49m\u001b[43m)\u001b[49m\n\u001b[0;32m   3761\u001b[0m     indexer \u001b[38;5;241m=\u001b[39m \u001b[38;5;28mself\u001b[39m\u001b[38;5;241m.\u001b[39mcolumns\u001b[38;5;241m.\u001b[39mget_loc(key)\n\u001b[0;32m   3762\u001b[0m     \u001b[38;5;28;01mif\u001b[39;00m is_integer(indexer):\n",
      "File \u001b[1;32mC:\\Program Files\\Anaconda\\envs\\alpacaenv\\lib\\site-packages\\pandas\\core\\frame.py:3815\u001b[0m, in \u001b[0;36mDataFrame._getitem_multilevel\u001b[1;34m(self, key)\u001b[0m\n\u001b[0;32m   3813\u001b[0m \u001b[38;5;28;01mdef\u001b[39;00m \u001b[38;5;21m_getitem_multilevel\u001b[39m(\u001b[38;5;28mself\u001b[39m, key):\n\u001b[0;32m   3814\u001b[0m     \u001b[38;5;66;03m# self.columns is a MultiIndex\u001b[39;00m\n\u001b[1;32m-> 3815\u001b[0m     loc \u001b[38;5;241m=\u001b[39m \u001b[38;5;28;43mself\u001b[39;49m\u001b[38;5;241;43m.\u001b[39;49m\u001b[43mcolumns\u001b[49m\u001b[38;5;241;43m.\u001b[39;49m\u001b[43mget_loc\u001b[49m\u001b[43m(\u001b[49m\u001b[43mkey\u001b[49m\u001b[43m)\u001b[49m\n\u001b[0;32m   3816\u001b[0m     \u001b[38;5;28;01mif\u001b[39;00m \u001b[38;5;28misinstance\u001b[39m(loc, (\u001b[38;5;28mslice\u001b[39m, np\u001b[38;5;241m.\u001b[39mndarray)):\n\u001b[0;32m   3817\u001b[0m         new_columns \u001b[38;5;241m=\u001b[39m \u001b[38;5;28mself\u001b[39m\u001b[38;5;241m.\u001b[39mcolumns[loc]\n",
      "File \u001b[1;32mC:\\Program Files\\Anaconda\\envs\\alpacaenv\\lib\\site-packages\\pandas\\core\\indexes\\multi.py:2812\u001b[0m, in \u001b[0;36mMultiIndex.get_loc\u001b[1;34m(self, key)\u001b[0m\n\u001b[0;32m   2809\u001b[0m     \u001b[38;5;28;01mreturn\u001b[39;00m mask\n\u001b[0;32m   2811\u001b[0m \u001b[38;5;28;01mif\u001b[39;00m \u001b[38;5;129;01mnot\u001b[39;00m \u001b[38;5;28misinstance\u001b[39m(key, \u001b[38;5;28mtuple\u001b[39m):\n\u001b[1;32m-> 2812\u001b[0m     loc \u001b[38;5;241m=\u001b[39m \u001b[38;5;28;43mself\u001b[39;49m\u001b[38;5;241;43m.\u001b[39;49m\u001b[43m_get_level_indexer\u001b[49m\u001b[43m(\u001b[49m\u001b[43mkey\u001b[49m\u001b[43m,\u001b[49m\u001b[43m \u001b[49m\u001b[43mlevel\u001b[49m\u001b[38;5;241;43m=\u001b[39;49m\u001b[38;5;241;43m0\u001b[39;49m\u001b[43m)\u001b[49m\n\u001b[0;32m   2813\u001b[0m     \u001b[38;5;28;01mreturn\u001b[39;00m _maybe_to_slice(loc)\n\u001b[0;32m   2815\u001b[0m keylen \u001b[38;5;241m=\u001b[39m \u001b[38;5;28mlen\u001b[39m(key)\n",
      "File \u001b[1;32mC:\\Program Files\\Anaconda\\envs\\alpacaenv\\lib\\site-packages\\pandas\\core\\indexes\\multi.py:3160\u001b[0m, in \u001b[0;36mMultiIndex._get_level_indexer\u001b[1;34m(self, key, level, indexer)\u001b[0m\n\u001b[0;32m   3157\u001b[0m         \u001b[38;5;28;01mreturn\u001b[39;00m \u001b[38;5;28mslice\u001b[39m(i, j, step)\n\u001b[0;32m   3159\u001b[0m \u001b[38;5;28;01melse\u001b[39;00m:\n\u001b[1;32m-> 3160\u001b[0m     idx \u001b[38;5;241m=\u001b[39m \u001b[38;5;28;43mself\u001b[39;49m\u001b[38;5;241;43m.\u001b[39;49m\u001b[43m_get_loc_single_level_index\u001b[49m\u001b[43m(\u001b[49m\u001b[43mlevel_index\u001b[49m\u001b[43m,\u001b[49m\u001b[43m \u001b[49m\u001b[43mkey\u001b[49m\u001b[43m)\u001b[49m\n\u001b[0;32m   3162\u001b[0m     \u001b[38;5;28;01mif\u001b[39;00m level \u001b[38;5;241m>\u001b[39m \u001b[38;5;241m0\u001b[39m \u001b[38;5;129;01mor\u001b[39;00m \u001b[38;5;28mself\u001b[39m\u001b[38;5;241m.\u001b[39m_lexsort_depth \u001b[38;5;241m==\u001b[39m \u001b[38;5;241m0\u001b[39m:\n\u001b[0;32m   3163\u001b[0m         \u001b[38;5;66;03m# Desired level is not sorted\u001b[39;00m\n\u001b[0;32m   3164\u001b[0m         \u001b[38;5;28;01mif\u001b[39;00m \u001b[38;5;28misinstance\u001b[39m(idx, \u001b[38;5;28mslice\u001b[39m):\n\u001b[0;32m   3165\u001b[0m             \u001b[38;5;66;03m# test_get_loc_partial_timestamp_multiindex\u001b[39;00m\n",
      "File \u001b[1;32mC:\\Program Files\\Anaconda\\envs\\alpacaenv\\lib\\site-packages\\pandas\\core\\indexes\\multi.py:2752\u001b[0m, in \u001b[0;36mMultiIndex._get_loc_single_level_index\u001b[1;34m(self, level_index, key)\u001b[0m\n\u001b[0;32m   2750\u001b[0m     \u001b[38;5;28;01mreturn\u001b[39;00m \u001b[38;5;241m-\u001b[39m\u001b[38;5;241m1\u001b[39m\n\u001b[0;32m   2751\u001b[0m \u001b[38;5;28;01melse\u001b[39;00m:\n\u001b[1;32m-> 2752\u001b[0m     \u001b[38;5;28;01mreturn\u001b[39;00m \u001b[43mlevel_index\u001b[49m\u001b[38;5;241;43m.\u001b[39;49m\u001b[43mget_loc\u001b[49m\u001b[43m(\u001b[49m\u001b[43mkey\u001b[49m\u001b[43m)\u001b[49m\n",
      "File \u001b[1;32mC:\\Program Files\\Anaconda\\envs\\alpacaenv\\lib\\site-packages\\pandas\\core\\indexes\\base.py:3655\u001b[0m, in \u001b[0;36mIndex.get_loc\u001b[1;34m(self, key)\u001b[0m\n\u001b[0;32m   3653\u001b[0m     \u001b[38;5;28;01mreturn\u001b[39;00m \u001b[38;5;28mself\u001b[39m\u001b[38;5;241m.\u001b[39m_engine\u001b[38;5;241m.\u001b[39mget_loc(casted_key)\n\u001b[0;32m   3654\u001b[0m \u001b[38;5;28;01mexcept\u001b[39;00m \u001b[38;5;167;01mKeyError\u001b[39;00m \u001b[38;5;28;01mas\u001b[39;00m err:\n\u001b[1;32m-> 3655\u001b[0m     \u001b[38;5;28;01mraise\u001b[39;00m \u001b[38;5;167;01mKeyError\u001b[39;00m(key) \u001b[38;5;28;01mfrom\u001b[39;00m \u001b[38;5;21;01merr\u001b[39;00m\n\u001b[0;32m   3656\u001b[0m \u001b[38;5;28;01mexcept\u001b[39;00m \u001b[38;5;167;01mTypeError\u001b[39;00m:\n\u001b[0;32m   3657\u001b[0m     \u001b[38;5;66;03m# If we have a listlike key, _check_indexing_error will raise\u001b[39;00m\n\u001b[0;32m   3658\u001b[0m     \u001b[38;5;66;03m#  InvalidIndexError. Otherwise we fall through and re-raise\u001b[39;00m\n\u001b[0;32m   3659\u001b[0m     \u001b[38;5;66;03m#  the TypeError.\u001b[39;00m\n\u001b[0;32m   3660\u001b[0m     \u001b[38;5;28mself\u001b[39m\u001b[38;5;241m.\u001b[39m_check_indexing_error(key)\n",
      "\u001b[1;31mKeyError\u001b[0m: 'Close'"
     ]
    }
   ],
   "source": [
    "pre_ret_plot = crypto_pre_change['Close'].plot()"
   ]
  },
  {
   "cell_type": "code",
   "execution_count": null,
   "id": "58f0003d-0a59-4f66-8c46-6b84cf42b95f",
   "metadata": {},
   "outputs": [],
   "source": [
    "# Concatenating the Covid time frame data frames\n",
    "crypto_covid = pd.concat([btc_covid, doge_covid, eth_covid, ltc_covid], axis=1,join='inner', keys = [\"BTC\", \"DOGE\", \"ETH\", \"LTC\"])\n",
    "print(crypto_covid.isnull().sum())\n",
    "crypto_covid.head()"
   ]
  },
  {
   "cell_type": "code",
   "execution_count": null,
   "id": "7fa03415-0e62-45d8-9f67-2353816c3a07",
   "metadata": {},
   "outputs": [],
   "source": []
  },
  {
   "cell_type": "code",
   "execution_count": null,
   "id": "a8f41502-33fd-400c-9b20-0d4959dfc6e8",
   "metadata": {
    "tags": []
   },
   "outputs": [],
   "source": [
    "#Concatenating the Post-Covid time frame data frames\n",
    "crypto_post = pd.concat([btc_post, doge_post, eth_post, ltc_post], axis=1,join='inner', keys = [\"BTC\", \"DOGE\", \"ETH\", \"LTC\"])\n",
    "print(crypto_post.isnull().sum())\n",
    "crypto_post.head()"
   ]
  },
  {
   "cell_type": "code",
   "execution_count": null,
   "id": "cfed2702-179e-4eff-94ee-3fa471a934d9",
   "metadata": {
    "tags": []
   },
   "outputs": [],
   "source": [
    "num_sims = 100\n",
    "trading_days = 252*10"
   ]
  },
  {
   "cell_type": "code",
   "execution_count": null,
   "id": "b2a8c9c3-1566-4cfa-aeac-13906625bfb7",
   "metadata": {},
   "outputs": [],
   "source": [
    "MC_POST = MCSimulation(\n",
    "    portfolio_data = crypto_post,\n",
    "    num_simulation = num_sims,\n",
    "    num_trading_days = trading_days\n",
    ")"
   ]
  },
  {
   "cell_type": "code",
   "execution_count": null,
   "id": "bbbd6617-0f09-4add-ac5e-60f6db338c74",
   "metadata": {},
   "outputs": [],
   "source": []
  }
 ],
 "metadata": {
  "kernelspec": {
   "display_name": "Python 3 (ipykernel)",
   "language": "python",
   "name": "python3"
  },
  "language_info": {
   "codemirror_mode": {
    "name": "ipython",
    "version": 3
   },
   "file_extension": ".py",
   "mimetype": "text/x-python",
   "name": "python",
   "nbconvert_exporter": "python",
   "pygments_lexer": "ipython3",
   "version": "3.10.13"
  }
 },
 "nbformat": 4,
 "nbformat_minor": 5
}
