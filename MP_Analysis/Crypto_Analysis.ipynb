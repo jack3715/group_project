{
 "cells": [
  {
   "cell_type": "code",
   "execution_count": 1,
   "id": "ba4c866f-dfaf-4fff-bafe-ce90eda6635a",
   "metadata": {},
   "outputs": [],
   "source": [
    "#Import Libraries\n",
    "import pandas as pd\n",
    "%matplotlib inline\n",
    "from MCForecastTools import MCSimulation\n",
    "import warnings\n",
    "warnings.filterwarnings('ignore')\n",
    "from pathlib import Path\n",
    "import plotly.express as px\n",
    "import numpy as np"
   ]
  },
  {
   "cell_type": "markdown",
   "id": "4dedddfe-aa52-460d-8cb6-12232b1a8f11",
   "metadata": {},
   "source": [
    "Bit Coin (BTC)\n",
    "\n",
    "Ethereum (ETH)\n",
    "\n",
    "Dogecoin (DOGE)\n",
    "\n",
    "Litecoin (LTC)"
   ]
  },
  {
   "cell_type": "code",
   "execution_count": 2,
   "id": "2896c2fb-3459-4c9e-ba1c-0cfa17c3d4e2",
   "metadata": {
    "tags": []
   },
   "outputs": [],
   "source": [
    "cols = ['BTC', 'DOGE', 'ETH', 'LTC']"
   ]
  },
  {
   "cell_type": "code",
   "execution_count": 3,
   "id": "3ed90776-2b81-463b-b1e5-5a37c39fc4f9",
   "metadata": {},
   "outputs": [],
   "source": [
    "# Reading in the Pre-Covid time frame csv files\n",
    "btc_pre = pd.read_csv(Path('./Resources/BTC_PRECOVID.csv')).set_index('Date').drop(labels = ['Open','High','Low','Adj Close','Volume'], axis = 1)\n",
    "doge_pre = pd.read_csv(Path('./Resources/DOGE_PRECOVID.csv')).set_index('Date').drop(labels = ['Open','High','Low','Adj Close','Volume'], axis = 1)\n",
    "eth_pre = pd.read_csv(Path('./Resources/ETH_PRECOVID.csv')).set_index('Date').drop(labels = ['Open','High','Low','Adj Close','Volume'], axis = 1)\n",
    "ltc_pre = pd.read_csv(Path('./Resources/LTC_PRECOVID.csv')).set_index('Date').drop(labels = ['Open','High','Low','Adj Close','Volume'], axis = 1)"
   ]
  },
  {
   "cell_type": "code",
   "execution_count": 4,
   "id": "b71ba88f-f2d7-4a3e-a9e8-474982ccdb4c",
   "metadata": {
    "tags": []
   },
   "outputs": [],
   "source": [
    "# Reading in the Covid time frame csv files\n",
    "btc_covid = pd.read_csv(Path('./Resources/BTC_COVID.csv')).set_index('Date').drop(labels = ['Open','High','Low','Adj Close','Volume'], axis = 1)\n",
    "doge_covid = pd.read_csv(Path('./Resources/DOGE_COVID.csv')).set_index('Date').drop(labels = ['Open','High','Low','Adj Close','Volume'], axis = 1)\n",
    "eth_covid = pd.read_csv(Path('./Resources/ETH_COVID.csv')).set_index('Date').drop(labels = ['Open','High','Low','Adj Close','Volume'], axis = 1)\n",
    "ltc_covid = pd.read_csv(Path('./Resources/LTC_COVID.csv')).set_index('Date').drop(labels = ['Open','High','Low','Adj Close','Volume'], axis = 1)"
   ]
  },
  {
   "cell_type": "code",
   "execution_count": 5,
   "id": "e62c6567-c4b5-4839-a5cf-d30a624d30ec",
   "metadata": {
    "tags": []
   },
   "outputs": [],
   "source": [
    "# Reading in the Post-Covid time frame csv files\n",
    "btc_post = pd.read_csv(Path('./Resources/BTC_POST.csv')).set_index('Date')\n",
    "doge_post = pd.read_csv(Path('./Resources/DOGE_POST.csv')).set_index('Date')\n",
    "eth_post = pd.read_csv(Path('./Resources/ETH_POST.csv')).set_index('Date')\n",
    "ltc_post = pd.read_csv(Path('./Resources/LTC_POST.csv')).set_index('Date')"
   ]
  },
  {
   "cell_type": "code",
   "execution_count": 6,
   "id": "b392a3f5-7d0d-4d04-8651-84c2aa10d412",
   "metadata": {
    "tags": []
   },
   "outputs": [
    {
     "name": "stdout",
     "output_type": "stream",
     "text": [
      "BTC     0\n",
      "DOGE    0\n",
      "ETH     0\n",
      "LTC     0\n",
      "dtype: int64\n"
     ]
    },
    {
     "data": {
      "text/html": [
       "<div>\n",
       "<style scoped>\n",
       "    .dataframe tbody tr th:only-of-type {\n",
       "        vertical-align: middle;\n",
       "    }\n",
       "\n",
       "    .dataframe tbody tr th {\n",
       "        vertical-align: top;\n",
       "    }\n",
       "\n",
       "    .dataframe thead th {\n",
       "        text-align: right;\n",
       "    }\n",
       "</style>\n",
       "<table border=\"1\" class=\"dataframe\">\n",
       "  <thead>\n",
       "    <tr style=\"text-align: right;\">\n",
       "      <th></th>\n",
       "      <th>BTC</th>\n",
       "      <th>DOGE</th>\n",
       "      <th>ETH</th>\n",
       "      <th>LTC</th>\n",
       "    </tr>\n",
       "    <tr>\n",
       "      <th>Date</th>\n",
       "      <th></th>\n",
       "      <th></th>\n",
       "      <th></th>\n",
       "      <th></th>\n",
       "    </tr>\n",
       "  </thead>\n",
       "  <tbody>\n",
       "    <tr>\n",
       "      <th>2017-11-09</th>\n",
       "      <td>7143.580078</td>\n",
       "      <td>0.001415</td>\n",
       "      <td>320.884003</td>\n",
       "      <td>64.269699</td>\n",
       "    </tr>\n",
       "    <tr>\n",
       "      <th>2017-11-10</th>\n",
       "      <td>6618.140137</td>\n",
       "      <td>0.001163</td>\n",
       "      <td>299.252991</td>\n",
       "      <td>59.260101</td>\n",
       "    </tr>\n",
       "    <tr>\n",
       "      <th>2017-11-11</th>\n",
       "      <td>6357.600098</td>\n",
       "      <td>0.001201</td>\n",
       "      <td>314.681000</td>\n",
       "      <td>62.303299</td>\n",
       "    </tr>\n",
       "    <tr>\n",
       "      <th>2017-11-12</th>\n",
       "      <td>5950.069824</td>\n",
       "      <td>0.001038</td>\n",
       "      <td>307.907990</td>\n",
       "      <td>59.005402</td>\n",
       "    </tr>\n",
       "    <tr>\n",
       "      <th>2017-11-13</th>\n",
       "      <td>6559.490234</td>\n",
       "      <td>0.001211</td>\n",
       "      <td>316.716003</td>\n",
       "      <td>61.396500</td>\n",
       "    </tr>\n",
       "  </tbody>\n",
       "</table>\n",
       "</div>"
      ],
      "text/plain": [
       "                    BTC      DOGE         ETH        LTC\n",
       "Date                                                    \n",
       "2017-11-09  7143.580078  0.001415  320.884003  64.269699\n",
       "2017-11-10  6618.140137  0.001163  299.252991  59.260101\n",
       "2017-11-11  6357.600098  0.001201  314.681000  62.303299\n",
       "2017-11-12  5950.069824  0.001038  307.907990  59.005402\n",
       "2017-11-13  6559.490234  0.001211  316.716003  61.396500"
      ]
     },
     "execution_count": 6,
     "metadata": {},
     "output_type": "execute_result"
    }
   ],
   "source": [
    "# Concatenating the Pre-Covid time frame data frames\n",
    "crypto_pre = pd.concat([btc_pre, doge_pre, eth_pre, ltc_pre], axis=1, join='inner')\n",
    "crypto_pre.columns = ['BTC', 'DOGE', 'ETH', 'LTC']\n",
    "print(crypto_pre.isnull().sum())\n",
    "crypto_pre.head()"
   ]
  },
  {
   "cell_type": "code",
   "execution_count": 7,
   "id": "779a06f8-d2b4-4214-9aa1-ad9ef88bf001",
   "metadata": {
    "tags": []
   },
   "outputs": [
    {
     "data": {
      "text/html": [
       "<div>\n",
       "<style scoped>\n",
       "    .dataframe tbody tr th:only-of-type {\n",
       "        vertical-align: middle;\n",
       "    }\n",
       "\n",
       "    .dataframe tbody tr th {\n",
       "        vertical-align: top;\n",
       "    }\n",
       "\n",
       "    .dataframe thead th {\n",
       "        text-align: right;\n",
       "    }\n",
       "</style>\n",
       "<table border=\"1\" class=\"dataframe\">\n",
       "  <thead>\n",
       "    <tr style=\"text-align: right;\">\n",
       "      <th></th>\n",
       "      <th>BTC</th>\n",
       "      <th>DOGE</th>\n",
       "      <th>ETH</th>\n",
       "      <th>LTC</th>\n",
       "    </tr>\n",
       "    <tr>\n",
       "      <th>Date</th>\n",
       "      <th></th>\n",
       "      <th></th>\n",
       "      <th></th>\n",
       "      <th></th>\n",
       "    </tr>\n",
       "  </thead>\n",
       "  <tbody>\n",
       "    <tr>\n",
       "      <th>2017-11-10</th>\n",
       "      <td>-0.073554</td>\n",
       "      <td>-0.178092</td>\n",
       "      <td>-0.067411</td>\n",
       "      <td>-0.077946</td>\n",
       "    </tr>\n",
       "    <tr>\n",
       "      <th>2017-11-11</th>\n",
       "      <td>-0.039368</td>\n",
       "      <td>0.032674</td>\n",
       "      <td>0.051555</td>\n",
       "      <td>0.051353</td>\n",
       "    </tr>\n",
       "    <tr>\n",
       "      <th>2017-11-12</th>\n",
       "      <td>-0.064101</td>\n",
       "      <td>-0.135720</td>\n",
       "      <td>-0.021523</td>\n",
       "      <td>-0.052933</td>\n",
       "    </tr>\n",
       "    <tr>\n",
       "      <th>2017-11-13</th>\n",
       "      <td>0.102422</td>\n",
       "      <td>0.166667</td>\n",
       "      <td>0.028606</td>\n",
       "      <td>0.040523</td>\n",
       "    </tr>\n",
       "    <tr>\n",
       "      <th>2017-11-14</th>\n",
       "      <td>0.011626</td>\n",
       "      <td>-0.022296</td>\n",
       "      <td>0.066037</td>\n",
       "      <td>0.020899</td>\n",
       "    </tr>\n",
       "  </tbody>\n",
       "</table>\n",
       "</div>"
      ],
      "text/plain": [
       "                 BTC      DOGE       ETH       LTC\n",
       "Date                                              \n",
       "2017-11-10 -0.073554 -0.178092 -0.067411 -0.077946\n",
       "2017-11-11 -0.039368  0.032674  0.051555  0.051353\n",
       "2017-11-12 -0.064101 -0.135720 -0.021523 -0.052933\n",
       "2017-11-13  0.102422  0.166667  0.028606  0.040523\n",
       "2017-11-14  0.011626 -0.022296  0.066037  0.020899"
      ]
     },
     "execution_count": 7,
     "metadata": {},
     "output_type": "execute_result"
    }
   ],
   "source": [
    "crypto_pre_change = crypto_pre.pct_change().dropna()\n",
    "crypto_pre_change.head(5)"
   ]
  },
  {
   "cell_type": "code",
   "execution_count": 10,
   "id": "ff4b8a03-e206-4b20-b621-d7258ff13794",
   "metadata": {
    "tags": []
   },
   "outputs": [
    {
     "name": "stdout",
     "output_type": "stream",
     "text": [
      "BTC     2017-12-16\n",
      "DOGE    2018-01-07\n",
      "ETH     2018-01-13\n",
      "LTC     2017-12-18\n",
      "dtype: object\n",
      "BTC     2018-12-15\n",
      "DOGE    2017-11-12\n",
      "ETH     2018-12-14\n",
      "LTC     2018-12-14\n",
      "dtype: object\n",
      "2017-12-16\n",
      "2018-12-15\n"
     ]
    }
   ],
   "source": [
    "pre_high_date = crypto_pre.idxmax()\n",
    "pre_low_date = crypto_pre.idxmin()\n",
    "btc_pre_high_date = pre_high_date[0]\n",
    "btc_pre_low_date = pre_low_date[0]\n",
    "print(pre_high_date)\n",
    "print(pre_low_date)\n",
    "print(btc_pre_high_date)\n",
    "print(btc_pre_low_date)"
   ]
  },
  {
   "cell_type": "code",
   "execution_count": null,
   "id": "9e326c0a-931f-4c38-ae1d-1f98c0a0585e",
   "metadata": {
    "tags": []
   },
   "outputs": [],
   "source": []
  },
  {
   "cell_type": "code",
   "execution_count": null,
   "id": "5c177282-5829-4108-bd8d-ab3e6bfc86a2",
   "metadata": {
    "tags": []
   },
   "outputs": [],
   "source": [
    "btc_pre_low\n",
    "doge_pre_high\n",
    "doge_pre_low\n",
    "eth_pre_high\n",
    "eth_pre_low\n",
    "ltc_pre_high\n",
    "ltc_pre_low"
   ]
  },
  {
   "cell_type": "code",
   "execution_count": null,
   "id": "147f28a9-1cc7-4d54-af00-156567cf5d61",
   "metadata": {
    "tags": []
   },
   "outputs": [],
   "source": []
  },
  {
   "cell_type": "code",
   "execution_count": null,
   "id": "84a1700a-89d7-493c-a8dd-750db59cffd4",
   "metadata": {
    "tags": []
   },
   "outputs": [],
   "source": [
    "crypto_pre_ret_plot = px.line(crypto_pre_change, title='Crypto Currency Daily Returns (Pre-Covid)')\n",
    "crypto_pre_ret_plot.update_layout(legend_title_text = 'Crypto Name')"
   ]
  },
  {
   "cell_type": "code",
   "execution_count": null,
   "id": "2819c6ad-0c96-4065-8a27-b2701130935f",
   "metadata": {
    "tags": []
   },
   "outputs": [],
   "source": [
    "crypto_pre_cum_ret = (1+crypto_pre_change).cumprod()\n",
    "crypto_pre_cum_ret"
   ]
  },
  {
   "cell_type": "code",
   "execution_count": null,
   "id": "e3e68845-fbe4-4b1c-991f-321a6d3886e2",
   "metadata": {
    "tags": []
   },
   "outputs": [],
   "source": [
    "crypto_pre_cum_ret_plot = px.line(crypto_pre_cum_ret, title='Crypto Currency Cumulative Daily Returns (Pre-Covid)')\n",
    "crypto_pre_cum_ret_plot.update_layout(legend_title_text = 'Crypto Name')"
   ]
  },
  {
   "cell_type": "code",
   "execution_count": null,
   "id": "54eec8a0-a9b3-4ad7-8d62-8c42f971bcbc",
   "metadata": {
    "tags": []
   },
   "outputs": [],
   "source": [
    "crypto_pre_std = crypto_pre_change.std()*np.sqrt(252)\n",
    "crypto_pre_std"
   ]
  },
  {
   "cell_type": "code",
   "execution_count": null,
   "id": "2b338c4e-2913-45d3-8776-56c122e96e61",
   "metadata": {
    "tags": []
   },
   "outputs": [],
   "source": [
    "crypto_pre_std_plot = px.bar(crypto_pre_std, title = 'Crypto Currency Annualized Standard Deviation (Pre-Covid)')\n",
    "crypto_pre_std_plot.update_layout(showlegend = False)"
   ]
  },
  {
   "cell_type": "code",
   "execution_count": null,
   "id": "58f0003d-0a59-4f66-8c46-6b84cf42b95f",
   "metadata": {},
   "outputs": [],
   "source": [
    "# Concatenating the Covid time frame data frames\n",
    "crypto_covid = pd.concat([btc_covid, doge_covid, eth_covid, ltc_covid], axis=1,join='inner', keys = [\"BTC\", \"DOGE\", \"ETH\", \"LTC\"])\n",
    "crypto_covid.columns = [\"BTC\", \"DOGE\", \"ETH\", \"LTC\"]\n",
    "print(crypto_covid.isnull().sum())\n",
    "crypto_covid.head()"
   ]
  },
  {
   "cell_type": "code",
   "execution_count": null,
   "id": "7fa03415-0e62-45d8-9f67-2353816c3a07",
   "metadata": {},
   "outputs": [],
   "source": [
    "crypto_covid_change = crypto_covid.pct_change().dropna()\n",
    "crypto_covid_change.head(5)"
   ]
  },
  {
   "cell_type": "code",
   "execution_count": null,
   "id": "83f811bb-0c81-4451-b19b-9017987c5c37",
   "metadata": {
    "tags": []
   },
   "outputs": [],
   "source": [
    "crypto_covid_ret_plot = px.line(crypto_covid_change, labels = 'Crypto Name', title = 'Crypto Currency Daily Return (During Covid)')\n",
    "crypto_covid_ret_plot.update_layout(legend_title_text = 'Crypto Name')"
   ]
  },
  {
   "cell_type": "code",
   "execution_count": null,
   "id": "24a8c5e7-2fde-4420-ae0f-d1e55432704f",
   "metadata": {
    "tags": []
   },
   "outputs": [],
   "source": [
    "crypto_covid_cum_ret = (1+crypto_covid_change).cumprod()\n",
    "crypto_covid_cum_ret"
   ]
  },
  {
   "cell_type": "code",
   "execution_count": null,
   "id": "12c6e0a5-45bf-4779-96cb-9227453a2422",
   "metadata": {
    "tags": []
   },
   "outputs": [],
   "source": [
    "crypto_covid_cum_ret_plot = px.line(crypto_covid_cum_ret, title='Crypto Currency Cumulative Daily Returns (During Covid)')\n",
    "crypto_covid_cum_ret_plot.update_layout(legend_title_text = 'Crypto Name')"
   ]
  },
  {
   "cell_type": "code",
   "execution_count": null,
   "id": "21affd6d-5132-4b88-81d6-8d279e7b7dab",
   "metadata": {
    "tags": []
   },
   "outputs": [],
   "source": [
    "crypto_covid_std = crypto_covid_change.std()*np.sqrt(252)\n",
    "crypto_covid_std"
   ]
  },
  {
   "cell_type": "code",
   "execution_count": null,
   "id": "58589a3e-2333-4116-bb52-7c7fa93c57fa",
   "metadata": {
    "tags": []
   },
   "outputs": [],
   "source": [
    "crypto_covid_std_plot = px.bar(crypto_covid_std, title = 'Crypto Currency Annualized Standard Deviation (During Covid)')\n",
    "crypto_covid_std_plot.update_layout(showlegend = False)"
   ]
  },
  {
   "cell_type": "code",
   "execution_count": null,
   "id": "a8f41502-33fd-400c-9b20-0d4959dfc6e8",
   "metadata": {
    "tags": []
   },
   "outputs": [],
   "source": [
    "#Concatenating the Post-Covid time frame data frames\n",
    "crypto_post = pd.concat([btc_post, doge_post, eth_post, ltc_post], axis=1,join='inner', keys = [\"BTC\", \"DOGE\", \"ETH\", \"LTC\"])\n",
    "print(crypto_post.isnull().sum())\n",
    "crypto_post.head()"
   ]
  },
  {
   "cell_type": "code",
   "execution_count": null,
   "id": "cfed2702-179e-4eff-94ee-3fa471a934d9",
   "metadata": {
    "tags": []
   },
   "outputs": [],
   "source": [
    "num_sims = 100\n",
    "trading_days = 252*10"
   ]
  },
  {
   "cell_type": "code",
   "execution_count": null,
   "id": "b2a8c9c3-1566-4cfa-aeac-13906625bfb7",
   "metadata": {},
   "outputs": [],
   "source": [
    "MC_POST = MCSimulation(\n",
    "    portfolio_data = crypto_post,\n",
    "    num_simulation = num_sims,\n",
    "    num_trading_days = trading_days\n",
    ")"
   ]
  },
  {
   "cell_type": "code",
   "execution_count": null,
   "id": "bbbd6617-0f09-4add-ac5e-60f6db338c74",
   "metadata": {},
   "outputs": [],
   "source": []
  }
 ],
 "metadata": {
  "kernelspec": {
   "display_name": "Python 3 (ipykernel)",
   "language": "python",
   "name": "python3"
  },
  "language_info": {
   "codemirror_mode": {
    "name": "ipython",
    "version": 3
   },
   "file_extension": ".py",
   "mimetype": "text/x-python",
   "name": "python",
   "nbconvert_exporter": "python",
   "pygments_lexer": "ipython3",
   "version": "3.10.13"
  }
 },
 "nbformat": 4,
 "nbformat_minor": 5
}
